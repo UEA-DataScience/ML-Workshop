{
 "cells": [
  {
   "cell_type": "markdown",
   "id": "674f5f10",
   "metadata": {},
   "source": [
    "# 📝 Task 3.0  \n",
    "\n",
    "The aim of this exercise is two-fold:\n",
    "\n",
    "* understand the parametrization of a linear model;\n",
    "* quantify the fitting accuracy of a set of such models.\n",
    "\n",
    "We will reuse part of the code of the course to:\n",
    "\n",
    "* load data;\n",
    "* create the function representing a linear model.\n",
    "\n",
    "## Prerequisites\n",
    "\n",
    "### Data loading"
   ]
  },
  {
   "cell_type": "markdown",
   "id": "19e7586e",
   "metadata": {},
   "source": [
    "<div class=\"admonition note alert alert-info\">\n",
    "<p class=\"first admonition-title\" style=\"font-weight: bold;\">Note</p>\n",
    "<p class=\"last\">If you want a deeper overview regarding this dataset, you can refer to the\n",
    "Appendix - Datasets description section at the end of this workshop.</p>\n",
    "</div>"
   ]
  },
  {
   "cell_type": "code",
   "execution_count": null,
   "id": "ea83c810-d248-4e9d-97d5-c717440331b8",
   "metadata": {},
   "outputs": [],
   "source": [
    "import numpy as np\n",
    "import pandas as pd\n",
    "import scipy.stats as stats\n",
    "import matplotlib.pyplot as plt\n",
    "import sklearn\n",
    "\n",
    "import seaborn as sns\n",
    "sns.set_style(\"whitegrid\")\n",
    "sns.set_context(\"poster\")\n",
    "\n",
    "# special matplotlib argument for improved plots\n",
    "from matplotlib import rcParams"
   ]
  },
  {
   "cell_type": "code",
   "execution_count": null,
   "id": "d6c46e6c",
   "metadata": {},
   "outputs": [],
   "source": [
    "penguins = pd.read_csv(\"../datasets/penguins_regression.csv\")\n",
    "feature_name = \"Flipper Length (mm)\"\n",
    "target_name = \"Body Mass (g)\"\n",
    "data, target = penguins[[feature_name]], penguins[target_name]"
   ]
  },
  {
   "cell_type": "markdown",
   "id": "a4cab823",
   "metadata": {
    "lines_to_next_cell": 2
   },
   "source": [
    "### Model definition"
   ]
  },
  {
   "cell_type": "code",
   "execution_count": null,
   "id": "5f213096",
   "metadata": {},
   "outputs": [],
   "source": [
    "def linear_model_flipper_mass(\n",
    "    flipper_length, weight_flipper_length, intercept_body_mass\n",
    "):\n",
    "    \"\"\"Linear model of the form y = a * x + b\"\"\"\n",
    "    body_mass = weight_flipper_length * flipper_length + intercept_body_mass\n",
    "    return body_mass"
   ]
  },
  {
   "cell_type": "markdown",
   "id": "7f370117",
   "metadata": {},
   "source": [
    "## Main exercise\n",
    "\n",
    "Define a vector `weights = [...]` and a vector `intercepts = [...]` of the\n",
    "same length. Each pair of entries `(weights[i], intercepts[i])` tags a\n",
    "different model. Use these vectors along with the vector\n",
    "`flipper_length_range` to plot several linear models that could possibly fit\n",
    "our data. Use the above helper function to visualize both the models and the\n",
    "real samples."
   ]
  },
  {
   "cell_type": "code",
   "execution_count": null,
   "id": "ec0056b6",
   "metadata": {},
   "outputs": [],
   "source": [
    "flipper_length_range = np.linspace(data.min(), data.max(), num=300)"
   ]
  },
  {
   "cell_type": "code",
   "execution_count": null,
   "id": "f051972a",
   "metadata": {},
   "outputs": [],
   "source": [
    "# Write your code here."
   ]
  },
  {
   "cell_type": "markdown",
   "id": "e3c11601",
   "metadata": {
    "lines_to_next_cell": 2
   },
   "source": [
    "In the previous question, you were asked to create several linear models. The\n",
    "visualization allowed you to qualitatively assess if a model was better than\n",
    "another.\n",
    "\n",
    "Now, you should come up with a quantitative measure which indicates the\n",
    "goodness of fit of each linear model and allows you to select the best model.\n",
    "Define a function `goodness_fit_measure(true_values, predictions)` that takes\n",
    "as inputs the true target values and the predictions and returns a single\n",
    "scalar as output."
   ]
  },
  {
   "cell_type": "code",
   "execution_count": null,
   "id": "c71aa71c",
   "metadata": {},
   "outputs": [],
   "source": [
    "# Write your code here."
   ]
  },
  {
   "cell_type": "markdown",
   "id": "cdaf4b37",
   "metadata": {},
   "source": [
    "You can now copy and paste the code below to show the goodness of fit for each\n",
    "model.\n",
    "\n",
    "```python\n",
    "for model_idx, (weight, intercept) in enumerate(zip(weights, intercepts)):\n",
    "    target_predicted = linear_model_flipper_mass(data, weight, intercept)\n",
    "    print(f\"Model #{model_idx}:\")\n",
    "    print(f\"{weight:.2f} (g / mm) * flipper length + {intercept:.2f} (g)\")\n",
    "    print(f\"Error: {goodness_fit_measure(target, target_predicted):.3f}\\n\")\n",
    "```"
   ]
  },
  {
   "cell_type": "code",
   "execution_count": null,
   "id": "759ce846",
   "metadata": {},
   "outputs": [],
   "source": [
    "# Write your code here."
   ]
  }
 ],
 "metadata": {
  "jupytext": {
   "main_language": "python"
  },
  "kernelspec": {
   "display_name": "Python [conda env:base] *",
   "language": "python",
   "name": "conda-base-py"
  },
  "language_info": {
   "codemirror_mode": {
    "name": "ipython",
    "version": 3
   },
   "file_extension": ".py",
   "mimetype": "text/x-python",
   "name": "python",
   "nbconvert_exporter": "python",
   "pygments_lexer": "ipython3",
   "version": "3.12.7"
  }
 },
 "nbformat": 4,
 "nbformat_minor": 5
}
